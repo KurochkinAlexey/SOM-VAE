{
 "cells": [
  {
   "cell_type": "code",
   "execution_count": 1,
   "metadata": {},
   "outputs": [
    {
     "name": "stdout",
     "output_type": "stream",
     "text": [
      "Populating the interactive namespace from numpy and matplotlib\n"
     ]
    },
    {
     "name": "stderr",
     "output_type": "stream",
     "text": [
      "/home/demouser/anaconda3/envs/tf_gpu/lib/python3.7/site-packages/IPython/core/magics/pylab.py:160: UserWarning: pylab import has clobbered these variables: ['plt']\n",
      "`%matplotlib` prevents importing * from pylab and numpy\n",
      "  \"\\n`%matplotlib` prevents importing * from pylab and numpy\"\n"
     ]
    }
   ],
   "source": [
    "import pandas as pd\n",
    "import numpy as np\n",
    "import matplotlib as plt\n",
    "%pylab inline"
   ]
  },
  {
   "cell_type": "code",
   "execution_count": 2,
   "metadata": {},
   "outputs": [],
   "source": [
    "import torch\n",
    "from torch import nn\n",
    "from torch.utils.data import TensorDataset, DataLoader"
   ]
  },
  {
   "cell_type": "code",
   "execution_count": 1084,
   "metadata": {},
   "outputs": [],
   "source": [
    "class ConvEncoder(nn.Module):\n",
    "    def __init__(self, input_channels, latent_dim=64, kernel_size=[4, 4], strides=[1, 1], n_channels=[32, 128]):\n",
    "        super().__init__()\n",
    "        self.conv1 = nn.Conv2d(input_channels, n_channels[0], kernel_size[0], stride=strides[0])\n",
    "        self.maxpool1 = nn.MaxPool2d(2, 2)\n",
    "        self.conv2 = nn.Conv2d(n_channels[0], n_channels[1], kernel_size[1], stride=strides[1])\n",
    "        self.maxpool2 = nn.MaxPool2d(2, 2)\n",
    "        flat_size = 4*4*n_channels[-1]\n",
    "        self.latent_transform = nn.Linear(flat_size, latent_dim)\n",
    "    def forward(self, x):\n",
    "        x = torch.relu(self.conv1(x))\n",
    "        x = self.maxpool1(x)\n",
    "        x = torch.relu(self.conv2(x))\n",
    "        x = self.maxpool2(x)\n",
    "        x = x.view(x.shape[0], -1)\n",
    "        out = self.latent_transform(x)\n",
    "        return out\n"
   ]
  },
  {
   "cell_type": "code",
   "execution_count": 1108,
   "metadata": {},
   "outputs": [],
   "source": [
    "import torch.nn.functional as F\n",
    "class ConvDecoder(nn.Module):\n",
    "    def __init__(self, output_channels, output_size=(28, 28), latent_dim=64, flatten_shape=[4, 4, 128],\n",
    "                 kernel_size=[4, 3], strides=[1, 1], n_channels=[128, 128]):\n",
    "        super().__init__()\n",
    "        self.latent_transform = nn.Linear(latent_dim, flatten_shape[0]*flatten_shape[1]*flatten_shape[2])\n",
    "        self.deconv1 = nn.Conv2d(flatten_shape[-1], n_channels[0], kernel_size[0], stride=strides[0])\n",
    "        self.deconv2 = nn.Conv2d(n_channels[0], n_channels[-1], kernel_size[-1], stride=strides[-1], padding=1)\n",
    "        self.out_transform = nn.Conv2d(n_channels[-1], output_channels, 1, 1)\n",
    "        self.flatten_shape = flatten_shape\n",
    "        self.output_size = output_size\n",
    "    def forward(self, x):\n",
    "        x = self.latent_transform(x)\n",
    "        x = x.view(x.shape[0], self.flatten_shape[2], self.flatten_shape[1], self.flatten_shape[0])\n",
    "        x = F.interpolate(x, scale_factor=2)\n",
    "        x = torch.relu(self.deconv1(x))\n",
    "        x = F.interpolate(x, size=self.output_size)\n",
    "        x = torch.relu(self.deconv2(x))\n",
    "        out = torch.sigmoid(self.out_transform(x))\n",
    "        \n",
    "        return out"
   ]
  },
  {
   "cell_type": "code",
   "execution_count": 1221,
   "metadata": {},
   "outputs": [],
   "source": [
    "class SOMVAE(nn.Module):\n",
    "    def __init__(self, encoder, decoder_q, decoder_e, latent_dim=64, som_dim=[8,8],\n",
    "                 input_length=28, input_channels=28, beta=1, gamma=1, alpha=1, tau=1):\n",
    "        super().__init__()\n",
    "        self.encoder = encoder\n",
    "        self.decoder_e = decoder_e\n",
    "        self.decoder_q = decoder_q\n",
    "        self.input_length = input_length\n",
    "        self.input_channels = input_channels\n",
    "        self.beta = beta\n",
    "        self.alpha = alpha\n",
    "        self.gamma = gamma\n",
    "        self.tau = tau\n",
    "        self.som_dim = som_dim\n",
    "        self.latent_dim = latent_dim\n",
    "        self.embeddings = nn.Parameter(torch.randn(som_dim[0], som_dim[1], latent_dim)*0.05)\n",
    "        self.mse_loss = nn.MSELoss()\n",
    "        \n",
    "        probs_raw = torch.zeros(*(som_dim + som_dim))\n",
    "        probs_pos = torch.exp(probs_raw)\n",
    "        probs_sum = torch.sum(probs_pos, dim=[-1, -2], keepdim=True)\n",
    "        self.probs = nn.Parameter(probs_pos/probs_sum)\n",
    "        \n",
    "    def forward(self, x):\n",
    "        z_e = self.encoder(x)\n",
    "    \n",
    "        z_dist = (z_e.unsqueeze(1).unsqueeze(2) - self.embeddings.unsqueeze(0))**2\n",
    "        z_dist_sum = torch.sum(z_dist, dim=-1)\n",
    "        z_dist_flat = z_dist_sum.view(x.shape[0], -1)\n",
    "        k = torch.argmin(z_dist_flat, dim=-1)\n",
    "        \n",
    "        k_1 = k // self.som_dim[1]\n",
    "        k_2 = k % self.som_dim[1]\n",
    "        \n",
    "        k_stacked = torch.stack([k_1, k_2], dim=1)\n",
    "        z_q = self._gather_nd(self.embeddings, k_stacked)\n",
    "        \n",
    "        k_1 = k // self.som_dim[1]\n",
    "        k_2 = k % self.som_dim[1]\n",
    "        k_stacked = torch.stack([k_1, k_2], dim=1)\n",
    "        \n",
    "        k1_not_top = k_1 < self.som_dim[0] - 1\n",
    "        k1_not_bottom = k_1 > 0\n",
    "        k2_not_right = k_2 < self.som_dim[1] - 1\n",
    "        k2_not_left = k_2 > 0\n",
    "        \n",
    "        k1_up = torch.where(k1_not_top, k_1 + 1, k_1)\n",
    "        k1_down = torch.where(k1_not_bottom, k_1 - 1, k_1)\n",
    "        k2_right = torch.where(k2_not_right, k_2 + 1, k_2)\n",
    "        k2_left = torch.where(k2_not_left, k_2 - 1, k_2)\n",
    "        \n",
    "        z_q_up = torch.zeros(x.shape[0], self.latent_dim).cuda()\n",
    "        z_q_up_ = self._gather_nd(self.embeddings, torch.stack([k1_up, k_2], dim=1))\n",
    "        z_q_up[k1_not_top == 1] = z_q_up_[k1_not_top == 1]\n",
    "        \n",
    "        z_q_down = torch.zeros(x.shape[0], self.latent_dim).cuda()\n",
    "        z_q_down_ = self._gather_nd(self.embeddings, torch.stack([k1_down, k_2], dim=1))\n",
    "        z_q_down[k1_not_bottom == 1] = z_q_down_[k1_not_bottom == 1]\n",
    "        \n",
    "        z_q_right = torch.zeros(x.shape[0], self.latent_dim).cuda()\n",
    "        z_q_right_ =  self._gather_nd(self.embeddings, torch.stack([k_1, k2_right], dim=1))\n",
    "        z_q_right[k2_not_right == 1] == z_q_right_[k2_not_right == 1]\n",
    "        \n",
    "        z_q_left = torch.zeros(x.shape[0], self.latent_dim).cuda()\n",
    "        z_q_left_ = self._gather_nd(self.embeddings, torch.stack([k_1, k2_left], dim=1))\n",
    "        z_q_left[k2_not_left == 1] = z_q_left_[k2_not_left == 1]\n",
    "        \n",
    "        z_q_neighbors = torch.stack([z_q, z_q_up, z_q_down, z_q_right, z_q_left], dim=1)\n",
    "        \n",
    "        x_q = self.decoder_q(z_q)\n",
    "        x_e = self.decoder_e(z_e)\n",
    "        \n",
    "        return x_e, x_q, z_e, z_q, z_q_neighbors, k, z_dist_flat\n",
    "        \n",
    "        \n",
    "    def _loss_reconstruct(self, x, x_e, x_q):\n",
    "        l_e = self.mse_loss(x, x_e)\n",
    "        l_q = self.mse_loss(x, x_q)\n",
    "        mse_l = l_e + l_q\n",
    "        return mse_l\n",
    "    \n",
    "    def _loss_commit(self, z_e, z_q):\n",
    "        commit_l = self.mse_loss(z_e, z_q)\n",
    "        return commit_l\n",
    "    \n",
    "    def _loss_som(self, z_e, z_q_neighbors):\n",
    "        z_e = z_e.detach()\n",
    "        som_l = torch.mean((z_e.unsqueeze(1) - z_q_neighbors)**2)\n",
    "        return som_l\n",
    "    \n",
    "    def loss_prob(self, k):\n",
    "        k_1 = k // self.som_dim[1]\n",
    "        k_2 = k % self.som_dim[1]\n",
    "        k_1_old = torch.cat([k_1[0:1], k_1[:-1]], dim=0)\n",
    "        k_2_old = torch.cat([k_2[0:1], k_2[:-1]], dim=0)\n",
    "        k_stacked = torch.stack([k_1_old, k_2_old, k_1, k_2], dim=1)\n",
    "        \n",
    "        probs_raw = self.probs\n",
    "        probs_pos = torch.exp(probs_raw)\n",
    "        probs_sum = torch.sum(probs_pos, dim=[-1, -2], keepdim=True)\n",
    "        self.probs = nn.Parameter(probs_pos/probs_sum)\n",
    "        \n",
    "        transitions_all = self._gather_nd(self.probs, k_stacked)\n",
    "        prob_l = -self.gamma*torch.mean(torch.log(transitions_all))\n",
    "        return prob_l\n",
    "    \n",
    "    def _loss_z_prob(self, k, z_dist_flat):\n",
    "        k_1 = k // self.som_dim[1]\n",
    "        k_2 = k % self.som_dim[1]\n",
    "        k_1_old = torch.cat([k_1[0:1], k_1[:-1]], dim=0)\n",
    "        k_2_old = torch.cat([k_2[0:1], k_2[:-1]], dim=0)\n",
    "        k_stacked = torch.stack([k_1_old, k_2_old], dim=1)\n",
    "        \n",
    "        probs_raw = self.probs\n",
    "        probs_pos = torch.exp(probs_raw)\n",
    "        probs_sum = torch.sum(probs_pos, dim=[-1, -2], keepdim=True)\n",
    "        self.probs = nn.Parameter(probs_pos/probs_sum)\n",
    "        \n",
    "        out_probabilities_old = self._gather_nd(self.probs, k_stacked)\n",
    "        out_probabilities_flat = out_probabilities_old.view(k.shape[0], -1)\n",
    "        weighted_z_dist_prob = z_dist_flat*out_probabilities_flat\n",
    "        prob_z_l = torch.mean(weighted_z_dist_prob)\n",
    "        return prob_z_l\n",
    "    \n",
    "    def loss(self, x, x_e, x_q, z_e, z_q, z_q_neighbors, k, z_dist_flat):\n",
    "        mse_l = self._loss_reconstruct(x, x_e, x_q)\n",
    "        commit_l = self._loss_commit(z_e, z_q)\n",
    "        som_l = self._loss_som(z_e, z_q_neighbors)\n",
    "        prob_l = self.loss_prob(k)\n",
    "        prob_z_l = self._loss_z_prob(k, z_dist_flat)\n",
    "        l = mse_l + self.alpha*commit_l + self.beta*som_l + self.gamma*prob_l + self.tau*prob_z_l\n",
    "        return l\n",
    "        \n",
    "    def _gather_nd(self, params, idx):\n",
    "        idx = idx.long()\n",
    "        outputs = []\n",
    "        for i in range(len(idx)):\n",
    "            outputs.append(params[[idx[i][j] for j in range(idx.shape[1])]])\n",
    "        outputs = torch.stack(outputs)\n",
    "        return outputs"
   ]
  },
  {
   "cell_type": "code",
   "execution_count": 1222,
   "metadata": {},
   "outputs": [],
   "source": [
    "batch_size = 32\n",
    "latent_dim = 64\n",
    "som_dim = [8,8]\n",
    "learning_rate = 0.0005\n",
    "alpha = 1.0\n",
    "beta = 0.9\n",
    "gamma = 1.8\n",
    "tau = 1.4\n",
    "decay_factor = 0.9\n",
    "interactive = True\n",
    "data_set = \"MNIST_data\"\n",
    "save_model = False\n",
    "time_series = True\n",
    "mnist = True\n"
   ]
  },
  {
   "cell_type": "code",
   "execution_count": 1223,
   "metadata": {},
   "outputs": [],
   "source": [
    "import torchvision"
   ]
  },
  {
   "cell_type": "code",
   "execution_count": 1224,
   "metadata": {},
   "outputs": [],
   "source": [
    "train = torchvision.datasets.MNIST('./', download=True)\n",
    "test = torchvision.datasets.MNIST('./', train=False, download=True)"
   ]
  },
  {
   "cell_type": "code",
   "execution_count": 1225,
   "metadata": {},
   "outputs": [
    {
     "name": "stderr",
     "output_type": "stream",
     "text": [
      "/home/demouser/anaconda3/envs/tf_gpu/lib/python3.7/site-packages/torchvision/datasets/mnist.py:53: UserWarning: train_data has been renamed data\n",
      "  warnings.warn(\"train_data has been renamed data\")\n",
      "/home/demouser/anaconda3/envs/tf_gpu/lib/python3.7/site-packages/torchvision/datasets/mnist.py:43: UserWarning: train_labels has been renamed targets\n",
      "  warnings.warn(\"train_labels has been renamed targets\")\n"
     ]
    }
   ],
   "source": [
    "x_train = train.train_data\n",
    "y_train = train.train_labels"
   ]
  },
  {
   "cell_type": "code",
   "execution_count": 1226,
   "metadata": {},
   "outputs": [],
   "source": [
    "x_test = test.data\n",
    "y_test = test.targets"
   ]
  },
  {
   "cell_type": "code",
   "execution_count": 1227,
   "metadata": {},
   "outputs": [],
   "source": [
    "x_train = x_train.float()\n",
    "x_test = x_test.float()"
   ]
  },
  {
   "cell_type": "code",
   "execution_count": 1228,
   "metadata": {},
   "outputs": [
    {
     "data": {
      "text/plain": [
       "<matplotlib.image.AxesImage at 0x7fd792992da0>"
      ]
     },
     "execution_count": 1228,
     "metadata": {},
     "output_type": "execute_result"
    },
    {
     "data": {
      "image/png": "[encoded data removed]",
      "text/plain": [
       "<Figure size 720x720 with 1 Axes>"
      ]
     },
     "metadata": {
      "needs_background": "light"
     },
     "output_type": "display_data"
    }
   ],
   "source": [
    "plt.figure(figsize=(10, 10))\n",
    "plt.imshow(x_train[0])"
   ]
  },
  {
   "cell_type": "code",
   "execution_count": 1229,
   "metadata": {},
   "outputs": [],
   "source": [
    "x_train /= 255\n",
    "x_test /= 255"
   ]
  },
  {
   "cell_type": "code",
   "execution_count": 1230,
   "metadata": {},
   "outputs": [],
   "source": [
    "x = x_train[0]\n",
    "y = x_train[1]"
   ]
  },
  {
   "cell_type": "code",
   "execution_count": 1231,
   "metadata": {},
   "outputs": [
    {
     "data": {
      "text/plain": [
       "torch.Size([60000, 28, 28])"
      ]
     },
     "execution_count": 1231,
     "metadata": {},
     "output_type": "execute_result"
    }
   ],
   "source": [
    "x_train.shape"
   ]
  },
  {
   "cell_type": "code",
   "execution_count": 1232,
   "metadata": {},
   "outputs": [
    {
     "data": {
      "text/plain": [
       "<matplotlib.image.AxesImage at 0x7fd7928ff2e8>"
      ]
     },
     "execution_count": 1232,
     "metadata": {},
     "output_type": "execute_result"
    },
    {
     "data": {
      "image/png": "[encoded data removed]",
      "text/plain": [
       "<Figure size 720x720 with 1 Axes>"
      ]
     },
     "metadata": {
      "needs_background": "light"
     },
     "output_type": "display_data"
    }
   ],
   "source": [
    "plt.figure(figsize=(10, 10))\n",
    "plt.imshow(y.numpy()*255)"
   ]
  },
  {
   "cell_type": "code",
   "execution_count": 1233,
   "metadata": {},
   "outputs": [],
   "source": [
    "def interpolate_images(img1, img2, steps=100):\n",
    "    interpolation = torch.zeros(steps, 1, *img1.shape)\n",
    "    for i in range(steps):\n",
    "        interpolation[i] = img1*(1 - i/(steps - 1)) + i/(steps - 1)*img2\n",
    "    return interpolation"
   ]
  },
  {
   "cell_type": "code",
   "execution_count": 1234,
   "metadata": {},
   "outputs": [],
   "source": [
    "z = interpolate_images(x, y)"
   ]
  },
  {
   "cell_type": "code",
   "execution_count": 1235,
   "metadata": {},
   "outputs": [
    {
     "data": {
      "text/plain": [
       "<matplotlib.image.AxesImage at 0x7fd7928d06d8>"
      ]
     },
     "execution_count": 1235,
     "metadata": {},
     "output_type": "execute_result"
    },
    {
     "data": {
      "image/png": "[encoded data removed]",
      "text/plain": [
       "<Figure size 720x720 with 1 Axes>"
      ]
     },
     "metadata": {
      "needs_background": "light"
     },
     "output_type": "display_data"
    }
   ],
   "source": [
    "plt.figure(figsize=(10, 10))\n",
    "plt.imshow(x.numpy())"
   ]
  },
  {
   "cell_type": "code",
   "execution_count": 1236,
   "metadata": {},
   "outputs": [
    {
     "data": {
      "text/plain": [
       "<matplotlib.image.AxesImage at 0x7fd7928a0ac8>"
      ]
     },
     "execution_count": 1236,
     "metadata": {},
     "output_type": "execute_result"
    },
    {
     "data": {
      "image/png": "[encoded data removed]",
      "text/plain": [
       "<Figure size 720x720 with 1 Axes>"
      ]
     },
     "metadata": {
      "needs_background": "light"
     },
     "output_type": "display_data"
    }
   ],
   "source": [
    "plt.figure(figsize=(10, 10))\n",
    "plt.imshow(y.numpy())"
   ]
  },
  {
   "cell_type": "code",
   "execution_count": 1237,
   "metadata": {},
   "outputs": [
    {
     "data": {
      "text/plain": [
       "<matplotlib.image.AxesImage at 0x7fd792805048>"
      ]
     },
     "execution_count": 1237,
     "metadata": {},
     "output_type": "execute_result"
    },
    {
     "data": {
      "image/png": "[encoded data removed]",
      "text/plain": [
       "<Figure size 720x720 with 1 Axes>"
      ]
     },
     "metadata": {
      "needs_background": "light"
     },
     "output_type": "display_data"
    }
   ],
   "source": [
    "plt.figure(figsize=(10, 10))\n",
    "plt.imshow(z[-50, 0, ...].numpy())"
   ]
  },
  {
   "cell_type": "code",
   "execution_count": 1238,
   "metadata": {},
   "outputs": [],
   "source": [
    "def generate_batch(data):\n",
    "    start_img = np.random.randint(0, len(data))\n",
    "    end_img = np.random.randint(0, len(data))\n",
    "    interpolation = interpolate_images(data[start_img], data[end_img])\n",
    "    return interpolation + torch.randn(interpolation.shape)*0.01"
   ]
  },
  {
   "cell_type": "code",
   "execution_count": 1239,
   "metadata": {},
   "outputs": [],
   "source": [
    "model = SOMVAE(ConvEncoder(1), ConvDecoder(1), ConvDecoder(1), alpha=alpha, beta=beta, gamma=gamma, tau=tau,\n",
    "               som_dim=[8, 8]).cuda()"
   ]
  },
  {
   "cell_type": "code",
   "execution_count": 1240,
   "metadata": {},
   "outputs": [],
   "source": [
    "model_param_list = nn.ParameterList()\n",
    "for p in model.named_parameters():\n",
    "    if p[0] != 'probs':\n",
    "        model_param_list.append(p[1])\n",
    "        \n",
    "probs_param_list = nn.ParameterList()\n",
    "for p in model.named_parameters():\n",
    "    if p[0] == 'probs':\n",
    "        probs_param_list.append(p[1])"
   ]
  },
  {
   "cell_type": "code",
   "execution_count": 1241,
   "metadata": {},
   "outputs": [],
   "source": [
    "opt_model = torch.optim.Adam(model_param_list, lr=learning_rate)\n",
    "opt_probs = torch.optim.Adam(probs_param_list, lr=learning_rate*100)"
   ]
  },
  {
   "cell_type": "code",
   "execution_count": 1242,
   "metadata": {},
   "outputs": [],
   "source": [
    "sc_opt_model = torch.optim.lr_scheduler.StepLR(opt_model, 1000, decay_factor)\n",
    "sc_opt_probs = torch.optim.lr_scheduler.StepLR(opt_probs, 1000, decay_factor)"
   ]
  },
  {
   "cell_type": "code",
   "execution_count": 1243,
   "metadata": {},
   "outputs": [
    {
     "name": "stdout",
     "output_type": "stream",
     "text": [
      "Loss:  13.895828247070312\n",
      "Loss:  13.631264686584473\n",
      "Loss:  13.55605411529541\n",
      "Loss:  13.571837425231934\n",
      "Loss:  13.559880256652832\n",
      "Loss:  13.570618629455566\n",
      "Loss:  13.572286605834961\n",
      "Loss:  13.637300491333008\n",
      "Loss:  13.555207252502441\n",
      "Loss:  13.57352352142334\n",
      "Loss:  13.563543319702148\n",
      "Loss:  13.577604293823242\n",
      "Loss:  13.543030738830566\n",
      "Loss:  13.587584495544434\n",
      "Loss:  13.576294898986816\n",
      "Loss:  13.580045700073242\n",
      "Loss:  13.534278869628906\n",
      "Loss:  13.566781044006348\n",
      "Loss:  13.590415954589844\n",
      "Loss:  13.598328590393066\n",
      "Loss:  13.57474136352539\n",
      "Loss:  13.563921928405762\n",
      "Loss:  13.549629211425781\n",
      "Loss:  13.580867767333984\n",
      "Loss:  13.580345153808594\n",
      "Loss:  13.582716941833496\n",
      "Loss:  13.580039024353027\n",
      "Loss:  13.584284782409668\n",
      "Loss:  13.554227828979492\n",
      "Loss:  13.558804512023926\n",
      "Loss:  13.56189250946045\n",
      "Loss:  13.577685356140137\n",
      "Loss:  13.560967445373535\n",
      "Loss:  13.570148468017578\n",
      "Loss:  13.547110557556152\n",
      "Loss:  13.576838493347168\n",
      "Loss:  13.564275741577148\n",
      "Loss:  13.573107719421387\n",
      "Loss:  13.569786071777344\n",
      "Loss:  13.578723907470703\n",
      "Loss:  13.602633476257324\n",
      "Loss:  13.5531587600708\n",
      "Loss:  13.55892562866211\n",
      "Loss:  13.54109001159668\n",
      "Loss:  13.551939964294434\n",
      "Loss:  13.571537017822266\n",
      "Loss:  13.558545112609863\n",
      "Loss:  13.559417724609375\n",
      "Loss:  13.547137260437012\n",
      "Loss:  13.564204216003418\n",
      "Loss:  13.577766418457031\n",
      "Loss:  13.557083129882812\n",
      "Loss:  13.574037551879883\n",
      "Loss:  13.5506591796875\n",
      "Loss:  13.571002960205078\n",
      "Loss:  13.563104629516602\n",
      "Loss:  13.570135116577148\n",
      "Loss:  13.549612998962402\n",
      "Loss:  13.568479537963867\n",
      "Loss:  13.577898979187012\n",
      "Loss:  13.569001197814941\n",
      "Loss:  13.582972526550293\n",
      "Loss:  13.545878410339355\n",
      "Loss:  13.553421020507812\n",
      "Loss:  13.55319881439209\n",
      "Loss:  13.558213233947754\n",
      "Loss:  13.560519218444824\n",
      "Loss:  13.559896469116211\n",
      "Loss:  13.570001602172852\n",
      "Loss:  13.555468559265137\n",
      "Loss:  13.55090618133545\n",
      "Loss:  13.55749225616455\n",
      "Loss:  13.538368225097656\n",
      "Loss:  13.569059371948242\n",
      "Loss:  13.555625915527344\n",
      "Loss:  13.554769515991211\n",
      "Loss:  13.554850578308105\n",
      "Loss:  13.541491508483887\n",
      "Loss:  13.547107696533203\n",
      "Loss:  13.557753562927246\n",
      "Loss:  13.547821998596191\n",
      "Loss:  13.556278228759766\n",
      "Loss:  13.591093063354492\n",
      "Loss:  13.547660827636719\n",
      "Loss:  13.556273460388184\n",
      "Loss:  13.545757293701172\n",
      "Loss:  13.552714347839355\n",
      "Loss:  13.564226150512695\n",
      "Loss:  13.573958396911621\n",
      "Loss:  13.545642852783203\n",
      "Loss:  13.54482650756836\n",
      "Loss:  13.544529914855957\n",
      "Loss:  13.52371597290039\n",
      "Loss:  13.545465469360352\n",
      "Loss:  13.581644058227539\n",
      "Loss:  13.553717613220215\n",
      "Loss:  13.535429000854492\n",
      "Loss:  13.559820175170898\n",
      "Loss:  13.536523818969727\n",
      "Loss:  13.571054458618164\n",
      "Loss:  13.553905487060547\n",
      "Loss:  13.53383731842041\n",
      "Loss:  13.54065990447998\n",
      "Loss:  13.562165260314941\n",
      "Loss:  13.5463285446167\n",
      "Loss:  13.562829971313477\n",
      "Loss:  13.539079666137695\n",
      "Loss:  13.571035385131836\n",
      "Loss:  13.573326110839844\n",
      "Loss:  13.551994323730469\n",
      "Loss:  13.504632949829102\n",
      "Loss:  13.542996406555176\n",
      "Loss:  13.54191780090332\n",
      "Loss:  13.52910327911377\n",
      "Loss:  13.555232048034668\n",
      "Loss:  13.534539222717285\n",
      "Loss:  13.538431167602539\n",
      "Loss:  13.534353256225586\n",
      "Loss:  13.541999816894531\n",
      "Loss:  13.545536041259766\n",
      "Loss:  13.568005561828613\n",
      "Loss:  13.542008399963379\n",
      "Loss:  13.561941146850586\n",
      "Loss:  13.546340942382812\n",
      "Loss:  13.551263809204102\n",
      "Loss:  13.53149127960205\n",
      "Loss:  13.56011962890625\n",
      "Loss:  13.549792289733887\n",
      "Loss:  13.52560043334961\n",
      "Loss:  13.549912452697754\n",
      "Loss:  13.530281066894531\n",
      "Loss:  13.552391052246094\n",
      "Loss:  13.546978950500488\n",
      "Loss:  13.547869682312012\n",
      "Loss:  13.538344383239746\n",
      "Loss:  13.546158790588379\n",
      "Loss:  13.539682388305664\n",
      "Loss:  13.5493745803833\n",
      "Loss:  13.563720703125\n",
      "Loss:  13.536145210266113\n",
      "Loss:  13.51523494720459\n",
      "Loss:  13.538736343383789\n",
      "Loss:  13.573318481445312\n",
      "Loss:  13.557151794433594\n",
      "Loss:  13.548988342285156\n",
      "Loss:  13.53980827331543\n",
      "Loss:  13.554105758666992\n",
      "Loss:  13.553555488586426\n",
      "Loss:  13.578717231750488\n",
      "Loss:  13.534904479980469\n",
      "Loss:  13.544554710388184\n",
      "Loss:  13.542941093444824\n",
      "Loss:  13.53617000579834\n",
      "Loss:  13.55661392211914\n",
      "Loss:  13.552446365356445\n",
      "Loss:  13.510265350341797\n",
      "Loss:  13.541069984436035\n",
      "Loss:  13.55881118774414\n",
      "Loss:  13.55160140991211\n",
      "Loss:  13.545700073242188\n",
      "Loss:  13.550196647644043\n",
      "Loss:  13.54434585571289\n",
      "Loss:  13.555964469909668\n",
      "Loss:  13.558138847351074\n",
      "Loss:  13.535807609558105\n",
      "Loss:  13.51556396484375\n",
      "Loss:  13.545806884765625\n",
      "Loss:  13.5490083694458\n",
      "Loss:  13.54894733428955\n",
      "Loss:  13.56336498260498\n",
      "Loss:  13.55339241027832\n",
      "Loss:  13.53455924987793\n",
      "Loss:  13.533515930175781\n",
      "Loss:  13.537005424499512\n",
      "Loss:  13.554546356201172\n",
      "Loss:  13.528609275817871\n",
      "Loss:  13.546308517456055\n",
      "Loss:  13.546063423156738\n"
     ]
    },
    {
     "ename": "KeyboardInterrupt",
     "evalue": "",
     "output_type": "error",
     "traceback": [
      "\u001b[0;31m---------------------------------------------------------------------------\u001b[0m",
      "\u001b[0;31mKeyboardInterrupt\u001b[0m                         Traceback (most recent call last)",
      "\u001b[0;32m<ipython-input-1243-b6baa3b4fffd>\u001b[0m in \u001b[0;36m<module>\u001b[0;34m\u001b[0m\n\u001b[1;32m      7\u001b[0m     \u001b[0ml\u001b[0m \u001b[0;34m=\u001b[0m \u001b[0mmodel\u001b[0m\u001b[0;34m.\u001b[0m\u001b[0mloss\u001b[0m\u001b[0;34m(\u001b[0m\u001b[0mbatch_x\u001b[0m\u001b[0;34m,\u001b[0m \u001b[0mx_e\u001b[0m\u001b[0;34m,\u001b[0m \u001b[0mx_q\u001b[0m\u001b[0;34m,\u001b[0m \u001b[0mz_e\u001b[0m\u001b[0;34m,\u001b[0m \u001b[0mz_q\u001b[0m\u001b[0;34m,\u001b[0m \u001b[0mz_q_neighbors\u001b[0m\u001b[0;34m,\u001b[0m \u001b[0mk\u001b[0m\u001b[0;34m,\u001b[0m \u001b[0mz_dist_flat\u001b[0m\u001b[0;34m)\u001b[0m\u001b[0;34m\u001b[0m\u001b[0;34m\u001b[0m\u001b[0m\n\u001b[1;32m      8\u001b[0m     \u001b[0ml_prob\u001b[0m \u001b[0;34m=\u001b[0m \u001b[0mmodel\u001b[0m\u001b[0;34m.\u001b[0m\u001b[0mloss_prob\u001b[0m\u001b[0;34m(\u001b[0m\u001b[0mk\u001b[0m\u001b[0;34m)\u001b[0m\u001b[0;34m\u001b[0m\u001b[0;34m\u001b[0m\u001b[0m\n\u001b[0;32m----> 9\u001b[0;31m     \u001b[0ml\u001b[0m\u001b[0;34m.\u001b[0m\u001b[0mbackward\u001b[0m\u001b[0;34m(\u001b[0m\u001b[0;34m)\u001b[0m\u001b[0;34m\u001b[0m\u001b[0;34m\u001b[0m\u001b[0m\n\u001b[0m\u001b[1;32m     10\u001b[0m     \u001b[0mopt_model\u001b[0m\u001b[0;34m.\u001b[0m\u001b[0mstep\u001b[0m\u001b[0;34m(\u001b[0m\u001b[0;34m)\u001b[0m\u001b[0;34m\u001b[0m\u001b[0;34m\u001b[0m\u001b[0m\n\u001b[1;32m     11\u001b[0m     \u001b[0ml_prob\u001b[0m\u001b[0;34m.\u001b[0m\u001b[0mbackward\u001b[0m\u001b[0;34m(\u001b[0m\u001b[0;34m)\u001b[0m\u001b[0;34m\u001b[0m\u001b[0;34m\u001b[0m\u001b[0m\n",
      "\u001b[0;32m~/anaconda3/envs/tf_gpu/lib/python3.7/site-packages/torch/tensor.py\u001b[0m in \u001b[0;36mbackward\u001b[0;34m(self, gradient, retain_graph, create_graph)\u001b[0m\n\u001b[1;32m    100\u001b[0m                 \u001b[0mproducts\u001b[0m\u001b[0;34m.\u001b[0m \u001b[0mDefaults\u001b[0m \u001b[0mto\u001b[0m\u001b[0;31m \u001b[0m\u001b[0;31m`\u001b[0m\u001b[0;31m`\u001b[0m\u001b[0;32mFalse\u001b[0m\u001b[0;31m`\u001b[0m\u001b[0;31m`\u001b[0m\u001b[0;34m.\u001b[0m\u001b[0;34m\u001b[0m\u001b[0;34m\u001b[0m\u001b[0m\n\u001b[1;32m    101\u001b[0m         \"\"\"\n\u001b[0;32m--> 102\u001b[0;31m         \u001b[0mtorch\u001b[0m\u001b[0;34m.\u001b[0m\u001b[0mautograd\u001b[0m\u001b[0;34m.\u001b[0m\u001b[0mbackward\u001b[0m\u001b[0;34m(\u001b[0m\u001b[0mself\u001b[0m\u001b[0;34m,\u001b[0m \u001b[0mgradient\u001b[0m\u001b[0;34m,\u001b[0m \u001b[0mretain_graph\u001b[0m\u001b[0;34m,\u001b[0m \u001b[0mcreate_graph\u001b[0m\u001b[0;34m)\u001b[0m\u001b[0;34m\u001b[0m\u001b[0;34m\u001b[0m\u001b[0m\n\u001b[0m\u001b[1;32m    103\u001b[0m \u001b[0;34m\u001b[0m\u001b[0m\n\u001b[1;32m    104\u001b[0m     \u001b[0;32mdef\u001b[0m \u001b[0mregister_hook\u001b[0m\u001b[0;34m(\u001b[0m\u001b[0mself\u001b[0m\u001b[0;34m,\u001b[0m \u001b[0mhook\u001b[0m\u001b[0;34m)\u001b[0m\u001b[0;34m:\u001b[0m\u001b[0;34m\u001b[0m\u001b[0;34m\u001b[0m\u001b[0m\n",
      "\u001b[0;32m~/anaconda3/envs/tf_gpu/lib/python3.7/site-packages/torch/autograd/__init__.py\u001b[0m in \u001b[0;36mbackward\u001b[0;34m(tensors, grad_tensors, retain_graph, create_graph, grad_variables)\u001b[0m\n\u001b[1;32m     88\u001b[0m     Variable._execution_engine.run_backward(\n\u001b[1;32m     89\u001b[0m         \u001b[0mtensors\u001b[0m\u001b[0;34m,\u001b[0m \u001b[0mgrad_tensors\u001b[0m\u001b[0;34m,\u001b[0m \u001b[0mretain_graph\u001b[0m\u001b[0;34m,\u001b[0m \u001b[0mcreate_graph\u001b[0m\u001b[0;34m,\u001b[0m\u001b[0;34m\u001b[0m\u001b[0;34m\u001b[0m\u001b[0m\n\u001b[0;32m---> 90\u001b[0;31m         allow_unreachable=True)  # allow_unreachable flag\n\u001b[0m\u001b[1;32m     91\u001b[0m \u001b[0;34m\u001b[0m\u001b[0m\n\u001b[1;32m     92\u001b[0m \u001b[0;34m\u001b[0m\u001b[0m\n",
      "\u001b[0;31mKeyboardInterrupt\u001b[0m: "
     ]
    }
   ],
   "source": [
    "for e in range(10000):\n",
    "    opt_model.zero_grad()\n",
    "    opt_probs.zero_grad()\n",
    "    batch_x = generate_batch(x_train)\n",
    "    batch_x = batch_x.cuda()\n",
    "    x_e, x_q, z_e, z_q, z_q_neighbors, k, z_dist_flat = model(batch_x)\n",
    "    l = model.loss(batch_x, x_e, x_q, z_e, z_q, z_q_neighbors, k, z_dist_flat)\n",
    "    l_prob = model.loss_prob(k)\n",
    "    l.backward()\n",
    "    opt_model.step()\n",
    "    l_prob.backward()\n",
    "    opt_probs.step()\n",
    "    sc_opt_model.step()\n",
    "    sc_opt_probs.step()\n",
    "    if e%10 == 0:\n",
    "        with torch.no_grad():\n",
    "            batch_x = generate_batch(x_test)\n",
    "            batch_x = batch_x.cuda()\n",
    "            x_e, x_q, z_e, z_q, z_q_neighbors, k, z_dist_flat = model(batch_x)\n",
    "            l = model.loss(batch_x, x_e, x_q, z_e, z_q, z_q_neighbors, k, z_dist_flat)\n",
    "            print(\"Loss: \", l.item())"
   ]
  },
  {
   "cell_type": "code",
   "execution_count": 1244,
   "metadata": {},
   "outputs": [],
   "source": [
    "with torch.no_grad():\n",
    "    batch_x = generate_batch(x_test)\n",
    "    batch_x = batch_x.cuda()\n",
    "    x_e, x_q, z_e, z_q, z_q_neighbors, k, z_dist_flat = model(batch_x)"
   ]
  },
  {
   "cell_type": "code",
   "execution_count": 1245,
   "metadata": {},
   "outputs": [
    {
     "data": {
      "text/plain": [
       "<matplotlib.image.AxesImage at 0x7fd7927e46d8>"
      ]
     },
     "execution_count": 1245,
     "metadata": {},
     "output_type": "execute_result"
    },
    {
     "data": {
      "image/png": "[encoded data removed]",
      "text/plain": [
       "<Figure size 720x720 with 1 Axes>"
      ]
     },
     "metadata": {
      "needs_background": "light"
     },
     "output_type": "display_data"
    }
   ],
   "source": [
    "plt.figure(figsize=(10, 10))\n",
    "plt.imshow(batch_x[0, 0, ...].detach().cpu().numpy())"
   ]
  },
  {
   "cell_type": "code",
   "execution_count": 1246,
   "metadata": {},
   "outputs": [
    {
     "data": {
      "text/plain": [
       "<matplotlib.image.AxesImage at 0x7fd792745ac8>"
      ]
     },
     "execution_count": 1246,
     "metadata": {},
     "output_type": "execute_result"
    },
    {
     "data": {
      "image/png": "[encoded data removed]",
      "text/plain": [
       "<Figure size 720x720 with 1 Axes>"
      ]
     },
     "metadata": {
      "needs_background": "light"
     },
     "output_type": "display_data"
    }
   ],
   "source": [
    "plt.figure(figsize=(10, 10))\n",
    "plt.imshow(x_e[0, 0, ...].detach().cpu().numpy())"
   ]
  },
  {
   "cell_type": "code",
   "execution_count": 1248,
   "metadata": {},
   "outputs": [
    {
     "data": {
      "text/plain": [
       "<matplotlib.image.AxesImage at 0x7fd79271cf28>"
      ]
     },
     "execution_count": 1248,
     "metadata": {},
     "output_type": "execute_result"
    },
    {
     "data": {
      "image/png": "[encoded data removed]",
      "text/plain": [
       "<Figure size 720x720 with 1 Axes>"
      ]
     },
     "metadata": {
      "needs_background": "light"
     },
     "output_type": "display_data"
    }
   ],
   "source": [
    "plt.figure(figsize=(10, 10))\n",
    "plt.imshow(x_q[0, 0, ...].detach().cpu().numpy())"
   ]
  },
  {
   "cell_type": "code",
   "execution_count": 1250,
   "metadata": {},
   "outputs": [],
   "source": [
    "def compute_NMI(cluster_assignments, class_assignments):\n",
    "    \"\"\"Computes the Normalized Mutual Information between cluster and class assignments.\n",
    "    Compare to https://nlp.stanford.edu/IR-book/html/htmledition/evaluation-of-clustering-1.html\n",
    "    \n",
    "    Args:\n",
    "        cluster_assignments (list): List of cluster assignments for every point.\n",
    "        class_assignments (list): List of class assignments for every point.\n",
    "    Returns:\n",
    "        float: The NMI value.\n",
    "    \"\"\"\n",
    "    assert len(cluster_assignments) == len(class_assignments), \"The inputs have to be of the same length.\"\n",
    "    \n",
    "    clusters = np.unique(cluster_assignments)\n",
    "    classes = np.unique(class_assignments)\n",
    "    \n",
    "    num_samples = len(cluster_assignments)\n",
    "    num_clusters = len(clusters)\n",
    "    num_classes = len(classes)\n",
    "    \n",
    "    assert num_classes > 1, \"There should be more than one class.\"\n",
    "        \n",
    "    cluster_class_counts = {cluster_: {class_: 0 for class_ in classes} for cluster_ in clusters}\n",
    "    \n",
    "    for cluster_, class_ in zip(cluster_assignments, class_assignments):\n",
    "        cluster_class_counts[cluster_][class_] += 1\n",
    "    \n",
    "    cluster_sizes = {cluster_: sum(list(class_dict.values())) for cluster_, class_dict in cluster_class_counts.items()}\n",
    "    class_sizes = {class_: sum([cluster_class_counts[clus][class_] for clus in clusters]) for class_ in classes}\n",
    "    \n",
    "    I_cluster_class = H_cluster = H_class = 0\n",
    "    \n",
    "    for cluster_ in clusters:\n",
    "        for class_ in classes:\n",
    "            if cluster_class_counts[cluster_][class_] == 0:\n",
    "                pass\n",
    "            else:\n",
    "                I_cluster_class += (cluster_class_counts[cluster_][class_]/num_samples) * \\\n",
    "                (np.log((cluster_class_counts[cluster_][class_]*num_samples)/ \\\n",
    "                        (cluster_sizes[cluster_]*class_sizes[class_])))\n",
    "                        \n",
    "    for cluster_ in clusters:\n",
    "        H_cluster -= (cluster_sizes[cluster_]/num_samples) * np.log(cluster_sizes[cluster_]/num_samples)\n",
    "                \n",
    "    for class_ in classes:\n",
    "        H_class -= (class_sizes[class_]/num_samples) * np.log(class_sizes[class_]/num_samples)\n",
    "        \n",
    "    NMI = (2*I_cluster_class)/(H_cluster+H_class)\n",
    "    \n",
    "    return NMI\n",
    "\n",
    "\n",
    "def compute_purity(cluster_assignments, class_assignments):\n",
    "    \"\"\"Computes the purity between cluster and class assignments.\n",
    "    Compare to https://nlp.stanford.edu/IR-book/html/htmledition/evaluation-of-clustering-1.html\n",
    "    \n",
    "    Args:\n",
    "        cluster_assignments (list): List of cluster assignments for every point.\n",
    "        class_assignments (list): List of class assignments for every point.\n",
    "    Returns:\n",
    "        float: The purity value.\n",
    "    \"\"\"\n",
    "    assert len(cluster_assignments) == len(class_assignments)\n",
    "    \n",
    "    num_samples = len(cluster_assignments)\n",
    "    num_clusters = len(np.unique(cluster_assignments))\n",
    "    num_classes = len(np.unique(class_assignments))\n",
    "    \n",
    "    cluster_class_counts = {cluster_: {class_: 0 for class_ in np.unique(class_assignments)}\n",
    "                            for cluster_ in np.unique(cluster_assignments)}\n",
    "    \n",
    "    for cluster_, class_ in zip(cluster_assignments, class_assignments):\n",
    "        cluster_class_counts[cluster_][class_] += 1\n",
    "        \n",
    "    total_intersection = sum([max(list(class_dict.values())) for cluster_, class_dict in cluster_class_counts.items()])\n",
    "    \n",
    "    purity = total_intersection/num_samples\n",
    "    \n",
    "    return purity"
   ]
  },
  {
   "cell_type": "code",
   "execution_count": 1251,
   "metadata": {},
   "outputs": [],
   "source": [
    "labels = []\n",
    "ks = []\n",
    "for i in range(len(x_test)//32):\n",
    "    labels += y_test[i*32:(i+1)*32].numpy().tolist()\n",
    "    batch_x = x_test[i*32:(i+1)*32].cuda()\n",
    "    x_e, x_q, z_e, z_q, z_q_neighbors, k, z_dist_flat = model(batch_x.unsqueeze(1))\n",
    "    ks += k.detach().cpu().numpy().tolist()"
   ]
  },
  {
   "cell_type": "code",
   "execution_count": 1252,
   "metadata": {},
   "outputs": [
    {
     "data": {
      "text/plain": [
       "0.43470417656439897"
      ]
     },
     "execution_count": 1252,
     "metadata": {},
     "output_type": "execute_result"
    }
   ],
   "source": [
    "compute_NMI(ks, labels)"
   ]
  },
  {
   "cell_type": "code",
   "execution_count": 1253,
   "metadata": {},
   "outputs": [
    {
     "data": {
      "text/plain": [
       "0.6448317307692307"
      ]
     },
     "execution_count": 1253,
     "metadata": {},
     "output_type": "execute_result"
    }
   ],
   "source": [
    "compute_purity(ks, labels)"
   ]
  },
  {
   "cell_type": "code",
   "execution_count": null,
   "metadata": {},
   "outputs": [],
   "source": []
  }
 ],
 "metadata": {
  "kernelspec": {
   "display_name": "tf_gpu",
   "language": "python",
   "name": "tf_gpu"
  },
  "language_info": {
   "codemirror_mode": {
    "name": "ipython",
    "version": 3
   },
   "file_extension": ".py",
   "mimetype": "text/x-python",
   "name": "python",
   "nbconvert_exporter": "python",
   "pygments_lexer": "ipython3",
   "version": "3.7.3"
  }
 },
 "nbformat": 4,
 "nbformat_minor": 2
}
